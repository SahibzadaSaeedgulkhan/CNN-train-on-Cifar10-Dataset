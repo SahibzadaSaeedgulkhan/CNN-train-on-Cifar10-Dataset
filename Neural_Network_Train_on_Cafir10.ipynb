{
  "nbformat": 4,
  "nbformat_minor": 0,
  "metadata": {
    "colab": {
      "name": "Neural Network Train on Cafir10",
      "provenance": []
    },
    "kernelspec": {
      "name": "python3",
      "display_name": "Python 3"
    },
    "language_info": {
      "name": "python"
    }
  },
  "cells": [
    {
      "cell_type": "code",
      "execution_count": 1,
      "metadata": {
        "id": "pQeBWgtu2WDs"
      },
      "outputs": [],
      "source": [
        "import pandas as pd\n",
        "import numpy as np\n",
        "import tensorflow as tf\n",
        "from tensorflow import keras\n",
        "import seaborn as sns\n",
        "import matplotlib.pyplot as plt"
      ]
    },
    {
      "cell_type": "code",
      "source": [
        "\n",
        "(X_train,y_train), (X_test,y_test) = keras.datasets.cifar10.load_data()"
      ],
      "metadata": {
        "colab": {
          "base_uri": "https://localhost:8080/"
        },
        "id": "T-6ZfjS94yja",
        "outputId": "349f8332-9264-46d9-cf79-fc8909f2b10d"
      },
      "execution_count": 2,
      "outputs": [
        {
          "output_type": "stream",
          "name": "stdout",
          "text": [
            "Downloading data from https://www.cs.toronto.edu/~kriz/cifar-10-python.tar.gz\n",
            "170500096/170498071 [==============================] - 5s 0us/step\n",
            "170508288/170498071 [==============================] - 5s 0us/step\n"
          ]
        }
      ]
    },
    {
      "cell_type": "code",
      "source": [
        "X_train.shape"
      ],
      "metadata": {
        "colab": {
          "base_uri": "https://localhost:8080/"
        },
        "id": "uUp0heA340k-",
        "outputId": "51cd52f4-3e4b-427b-e7e0-7bf6c896429f"
      },
      "execution_count": 3,
      "outputs": [
        {
          "output_type": "execute_result",
          "data": {
            "text/plain": [
              "(50000, 32, 32, 3)"
            ]
          },
          "metadata": {},
          "execution_count": 3
        }
      ]
    },
    {
      "cell_type": "code",
      "source": [
        "y_train.shape"
      ],
      "metadata": {
        "colab": {
          "base_uri": "https://localhost:8080/"
        },
        "id": "qlRvGnV-49WU",
        "outputId": "7fa8a9cd-3393-423d-816c-7ddf6b3768c4"
      },
      "execution_count": 5,
      "outputs": [
        {
          "output_type": "execute_result",
          "data": {
            "text/plain": [
              "(50000, 1)"
            ]
          },
          "metadata": {},
          "execution_count": 5
        }
      ]
    },
    {
      "cell_type": "code",
      "source": [
        "X_test.shape"
      ],
      "metadata": {
        "colab": {
          "base_uri": "https://localhost:8080/"
        },
        "id": "ZnxmUlfw4_VD",
        "outputId": "06d5fbe5-0637-45ba-f2f7-df141266cda8"
      },
      "execution_count": 6,
      "outputs": [
        {
          "output_type": "execute_result",
          "data": {
            "text/plain": [
              "(10000, 32, 32, 3)"
            ]
          },
          "metadata": {},
          "execution_count": 6
        }
      ]
    },
    {
      "cell_type": "code",
      "source": [
        "y_test.shape"
      ],
      "metadata": {
        "colab": {
          "base_uri": "https://localhost:8080/"
        },
        "id": "B8ZV_-ER5DlX",
        "outputId": "8a8acdf6-6523-4048-87e2-948beab2bb6e"
      },
      "execution_count": 7,
      "outputs": [
        {
          "output_type": "execute_result",
          "data": {
            "text/plain": [
              "(10000, 1)"
            ]
          },
          "metadata": {},
          "execution_count": 7
        }
      ]
    },
    {
      "cell_type": "code",
      "source": [
        "import tensorflow\n",
        "from tensorflow import keras\n",
        "from tensorflow.keras.models import Sequential\n",
        "from tensorflow.keras.layers import Conv2D,MaxPooling2D,Dense\n",
        "from tensorflow.keras.layers import  Flatten\n"
      ],
      "metadata": {
        "id": "A0a4vh4P5GOE"
      },
      "execution_count": 8,
      "outputs": []
    },
    {
      "cell_type": "code",
      "source": [
        "model=Sequential()\n",
        "model.add(Conv2D(32,(3,3),input_shape=(32,32,3),activation=\"relu\"))\n",
        "model.add(MaxPooling2D(2,2))\n",
        "model.add(Flatten())\n",
        "\n",
        "\n",
        "model.add(Dense(32,activation=\"relu\"))\n",
        "\n",
        "model.add(Dense(10,activation=\"softmax\"))\n",
        "\n",
        "model.compile(optimizer=\"adam\",loss=\"sparse_categorical_crossentropy\",metrics=[\"accuracy\"])\n",
        "model.summary()"
      ],
      "metadata": {
        "colab": {
          "base_uri": "https://localhost:8080/"
        },
        "id": "iMjSv5Di5VrE",
        "outputId": "0110f727-891c-4086-d3c9-c094607a3c1f"
      },
      "execution_count": 13,
      "outputs": [
        {
          "output_type": "stream",
          "name": "stdout",
          "text": [
            "Model: \"sequential_2\"\n",
            "_________________________________________________________________\n",
            " Layer (type)                Output Shape              Param #   \n",
            "=================================================================\n",
            " conv2d_2 (Conv2D)           (None, 30, 30, 32)        896       \n",
            "                                                                 \n",
            " max_pooling2d_2 (MaxPooling  (None, 15, 15, 32)       0         \n",
            " 2D)                                                             \n",
            "                                                                 \n",
            " flatten_2 (Flatten)         (None, 7200)              0         \n",
            "                                                                 \n",
            " dense_4 (Dense)             (None, 32)                230432    \n",
            "                                                                 \n",
            " dense_5 (Dense)             (None, 10)                330       \n",
            "                                                                 \n",
            "=================================================================\n",
            "Total params: 231,658\n",
            "Trainable params: 231,658\n",
            "Non-trainable params: 0\n",
            "_________________________________________________________________\n"
          ]
        }
      ]
    },
    {
      "cell_type": "code",
      "source": [
        "model.fit(X_train,y_train,validation_split=0.2,epochs=25)"
      ],
      "metadata": {
        "colab": {
          "base_uri": "https://localhost:8080/"
        },
        "id": "W2t3P6pW5aC0",
        "outputId": "b7cad167-783f-4d14-9758-43e2a9410b64"
      },
      "execution_count": 14,
      "outputs": [
        {
          "output_type": "stream",
          "name": "stdout",
          "text": [
            "Epoch 1/25\n",
            "1250/1250 [==============================] - 30s 24ms/step - loss: 3.0079 - accuracy: 0.0970 - val_loss: 2.3052 - val_accuracy: 0.0977\n",
            "Epoch 2/25\n",
            "1250/1250 [==============================] - 29s 23ms/step - loss: 2.3028 - accuracy: 0.0987 - val_loss: 2.3053 - val_accuracy: 0.0952\n",
            "Epoch 3/25\n",
            "1250/1250 [==============================] - 29s 23ms/step - loss: 2.3028 - accuracy: 0.0990 - val_loss: 2.3053 - val_accuracy: 0.0980\n",
            "Epoch 4/25\n",
            "1250/1250 [==============================] - 29s 23ms/step - loss: 2.3028 - accuracy: 0.0986 - val_loss: 2.3052 - val_accuracy: 0.0977\n",
            "Epoch 5/25\n",
            "1250/1250 [==============================] - 30s 24ms/step - loss: 2.3028 - accuracy: 0.0973 - val_loss: 2.3053 - val_accuracy: 0.0952\n",
            "Epoch 6/25\n",
            "1250/1250 [==============================] - 31s 25ms/step - loss: 2.3028 - accuracy: 0.0960 - val_loss: 2.3053 - val_accuracy: 0.0980\n",
            "Epoch 7/25\n",
            "1250/1250 [==============================] - 29s 23ms/step - loss: 2.3028 - accuracy: 0.0963 - val_loss: 2.3053 - val_accuracy: 0.0980\n",
            "Epoch 8/25\n",
            "1250/1250 [==============================] - 29s 23ms/step - loss: 2.3028 - accuracy: 0.0992 - val_loss: 2.3054 - val_accuracy: 0.0952\n",
            "Epoch 9/25\n",
            "1250/1250 [==============================] - 29s 24ms/step - loss: 2.3028 - accuracy: 0.0982 - val_loss: 2.3053 - val_accuracy: 0.0997\n",
            "Epoch 10/25\n",
            "1250/1250 [==============================] - 29s 23ms/step - loss: 2.3028 - accuracy: 0.0985 - val_loss: 2.3053 - val_accuracy: 0.0980\n",
            "Epoch 11/25\n",
            "1250/1250 [==============================] - 30s 24ms/step - loss: 2.3028 - accuracy: 0.0992 - val_loss: 2.3053 - val_accuracy: 0.0952\n",
            "Epoch 12/25\n",
            "1250/1250 [==============================] - 30s 24ms/step - loss: 2.3028 - accuracy: 0.0996 - val_loss: 2.3053 - val_accuracy: 0.0952\n",
            "Epoch 13/25\n",
            "1250/1250 [==============================] - 30s 24ms/step - loss: 2.3028 - accuracy: 0.0996 - val_loss: 2.3053 - val_accuracy: 0.0952\n",
            "Epoch 14/25\n",
            "1250/1250 [==============================] - 29s 23ms/step - loss: 2.3028 - accuracy: 0.0980 - val_loss: 2.3053 - val_accuracy: 0.0952\n",
            "Epoch 15/25\n",
            "1250/1250 [==============================] - 29s 23ms/step - loss: 2.3028 - accuracy: 0.0999 - val_loss: 2.3053 - val_accuracy: 0.0952\n",
            "Epoch 16/25\n",
            "1250/1250 [==============================] - 29s 23ms/step - loss: 2.3028 - accuracy: 0.0986 - val_loss: 2.3053 - val_accuracy: 0.0952\n",
            "Epoch 17/25\n",
            "1250/1250 [==============================] - 30s 24ms/step - loss: 2.3028 - accuracy: 0.0998 - val_loss: 2.3054 - val_accuracy: 0.0952\n",
            "Epoch 18/25\n",
            "1250/1250 [==============================] - 30s 24ms/step - loss: 2.3028 - accuracy: 0.1010 - val_loss: 2.3053 - val_accuracy: 0.0980\n",
            "Epoch 19/25\n",
            "1250/1250 [==============================] - 29s 24ms/step - loss: 2.3027 - accuracy: 0.0985 - val_loss: 2.3056 - val_accuracy: 0.0952\n",
            "Epoch 20/25\n",
            "1250/1250 [==============================] - 30s 24ms/step - loss: 2.3027 - accuracy: 0.0994 - val_loss: 2.3053 - val_accuracy: 0.1014\n",
            "Epoch 21/25\n",
            "1250/1250 [==============================] - 30s 24ms/step - loss: 2.3028 - accuracy: 0.0997 - val_loss: 2.3053 - val_accuracy: 0.0952\n",
            "Epoch 22/25\n",
            "1250/1250 [==============================] - 30s 24ms/step - loss: 2.3028 - accuracy: 0.0975 - val_loss: 2.3053 - val_accuracy: 0.0980\n",
            "Epoch 23/25\n",
            "1250/1250 [==============================] - 30s 24ms/step - loss: 2.3028 - accuracy: 0.0999 - val_loss: 2.3053 - val_accuracy: 0.1015\n",
            "Epoch 24/25\n",
            "1250/1250 [==============================] - 30s 24ms/step - loss: 2.3027 - accuracy: 0.0975 - val_loss: 2.3052 - val_accuracy: 0.1022\n",
            "Epoch 25/25\n",
            "1250/1250 [==============================] - 30s 24ms/step - loss: 2.3028 - accuracy: 0.1001 - val_loss: 2.3053 - val_accuracy: 0.0952\n"
          ]
        },
        {
          "output_type": "execute_result",
          "data": {
            "text/plain": [
              "<keras.callbacks.History at 0x7f0ede75a850>"
            ]
          },
          "metadata": {},
          "execution_count": 14
        }
      ]
    },
    {
      "cell_type": "code",
      "source": [
        "model.predict(X_test)"
      ],
      "metadata": {
        "colab": {
          "base_uri": "https://localhost:8080/"
        },
        "id": "0badUJOP5erm",
        "outputId": "a6ab230f-2ee9-46b9-f56e-8d7ed803289c"
      },
      "execution_count": 15,
      "outputs": [
        {
          "output_type": "execute_result",
          "data": {
            "text/plain": [
              "array([[0.0986592 , 0.10083383, 0.10185765, ..., 0.10104023, 0.10020365,\n",
              "        0.10045837],\n",
              "       [0.0986592 , 0.10083383, 0.10185765, ..., 0.10104023, 0.10020365,\n",
              "        0.10045837],\n",
              "       [0.0986592 , 0.10083383, 0.10185765, ..., 0.10104023, 0.10020365,\n",
              "        0.10045837],\n",
              "       ...,\n",
              "       [0.0986592 , 0.10083383, 0.10185765, ..., 0.10104023, 0.10020365,\n",
              "        0.10045837],\n",
              "       [0.0986592 , 0.10083383, 0.10185765, ..., 0.10104023, 0.10020365,\n",
              "        0.10045837],\n",
              "       [0.0986592 , 0.10083383, 0.10185765, ..., 0.10104023, 0.10020365,\n",
              "        0.10045837]], dtype=float32)"
            ]
          },
          "metadata": {},
          "execution_count": 15
        }
      ]
    },
    {
      "cell_type": "code",
      "source": [
        "model.evaluate(X_test,y_test)"
      ],
      "metadata": {
        "colab": {
          "base_uri": "https://localhost:8080/"
        },
        "id": "Rwfkx18I8100",
        "outputId": "71877957-389f-4e87-a268-45c90bfb1bba"
      },
      "execution_count": 16,
      "outputs": [
        {
          "output_type": "stream",
          "name": "stdout",
          "text": [
            "313/313 [==============================] - 3s 10ms/step - loss: 2.3026 - accuracy: 0.1000\n"
          ]
        },
        {
          "output_type": "execute_result",
          "data": {
            "text/plain": [
              "[2.302614450454712, 0.10000000149011612]"
            ]
          },
          "metadata": {},
          "execution_count": 16
        }
      ]
    },
    {
      "cell_type": "code",
      "source": [],
      "metadata": {
        "id": "Pj9QucO386Xq"
      },
      "execution_count": null,
      "outputs": []
    }
  ]
}